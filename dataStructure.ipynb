{
  "nbformat": 4,
  "nbformat_minor": 0,
  "metadata": {
    "colab": {
      "name": "dataStructure.ipynb",
      "provenance": [],
      "collapsed_sections": [],
      "authorship_tag": "ABX9TyMmhHDv4KveTNrpW69f0eLZ",
      "include_colab_link": true
    },
    "kernelspec": {
      "name": "python3",
      "display_name": "Python 3"
    },
    "language_info": {
      "name": "python"
    }
  },
  "cells": [
    {
      "cell_type": "markdown",
      "metadata": {
        "id": "view-in-github",
        "colab_type": "text"
      },
      "source": [
        "<a href=\"https://colab.research.google.com/github/yogeshrjk/python_basic/blob/main/dataStructure.ipynb\" target=\"_parent\"><img src=\"https://colab.research.google.com/assets/colab-badge.svg\" alt=\"Open In Colab\"/></a>"
      ]
    },
    {
      "cell_type": "markdown",
      "source": [
        "Data structures"
      ],
      "metadata": {
        "id": "COYhLgMUgXTP"
      }
    },
    {
      "cell_type": "code",
      "source": [
        "from collections import Counter\n",
        "l1 = [45,34,67,23,67,45,23,67,45,12,45]\n",
        "count = 0\n",
        "l2 = list()\n",
        "d = Counter(l1)\n",
        "for i in l1:\n",
        "\n",
        "  for j in l1[count:]:\n",
        "    if(i == j):\n",
        "      if i not in l2:\n",
        "        l2.append(i) \n",
        "        print(i,\"is repeated\")\n",
        "  count+=1\n",
        "print(l2)\n",
        "print(d)"
      ],
      "metadata": {
        "colab": {
          "base_uri": "https://localhost:8080/"
        },
        "id": "jflv6A7CmyTK",
        "outputId": "6432d3e7-549b-421e-ac96-5784020c4c39"
      },
      "execution_count": null,
      "outputs": [
        {
          "output_type": "stream",
          "name": "stdout",
          "text": [
            "45 is repeated\n",
            "34 is repeated\n",
            "67 is repeated\n",
            "23 is repeated\n",
            "12 is repeated\n",
            "[45, 34, 67, 23, 12]\n",
            "Counter({45: 4, 67: 3, 23: 2, 34: 1, 12: 1})\n"
          ]
        }
      ]
    },
    {
      "cell_type": "code",
      "source": [
        "l1 = [45,34,67,23,67,45,23,67,45,12,45]\n",
        "res = {}\n",
        "for i in l1:\n",
        "    res[i] = l1.count(i)\n",
        "    \n",
        "for n in res:\n",
        "  print(n,\"is repeated\", res[n], \"times\")\n"
      ],
      "metadata": {
        "colab": {
          "base_uri": "https://localhost:8080/"
        },
        "id": "J0ys5g9qFCZm",
        "outputId": "b7df6364-f1cb-4d42-9053-a03502c3252f"
      },
      "execution_count": null,
      "outputs": [
        {
          "output_type": "stream",
          "name": "stdout",
          "text": [
            "45 is repeated 4 times\n",
            "34 is repeated 1 times\n",
            "67 is repeated 3 times\n",
            "23 is repeated 2 times\n",
            "12 is repeated 1 times\n"
          ]
        }
      ]
    },
    {
      "cell_type": "code",
      "source": [
        "l1 = [1,2,3]\n",
        "l2 = [3,4,5]\n",
        "print(l1*2)\n",
        "print(l1+l2)"
      ],
      "metadata": {
        "colab": {
          "base_uri": "https://localhost:8080/"
        },
        "id": "rii5pLLHoZ57",
        "outputId": "8288085b-46ca-4437-e0a6-0629c6e89b2d"
      },
      "execution_count": null,
      "outputs": [
        {
          "output_type": "stream",
          "name": "stdout",
          "text": [
            "[1, 2, 3, 1, 2, 3]\n",
            "[1, 2, 3, 3, 4, 5]\n"
          ]
        }
      ]
    },
    {
      "cell_type": "code",
      "source": [
        "#single line if statement\n",
        "\n",
        "x = 18\n",
        "y = 20\n",
        "print(x,\"is greater\")if(x>y)else print(y,\"is greater\")"
      ],
      "metadata": {
        "colab": {
          "base_uri": "https://localhost:8080/"
        },
        "id": "cBFxXTHUo1AB",
        "outputId": "08a238f2-582d-4ac0-bd00-d476501afa5f"
      },
      "execution_count": null,
      "outputs": [
        {
          "output_type": "stream",
          "name": "stdout",
          "text": [
            "20 is greater\n"
          ]
        }
      ]
    },
    {
      "cell_type": "code",
      "source": [
        "#check if given number is even or odd\n",
        "\n",
        "num = int(input(\"enter a number \"))\n",
        "\n",
        "print(num,\" is even\")if(num % 2 == 0)else print(num,\" is odd\")"
      ],
      "metadata": {
        "colab": {
          "base_uri": "https://localhost:8080/"
        },
        "id": "tXRh2vZhpghr",
        "outputId": "f891d196-afce-44b0-d2c6-47ca1abe2705"
      },
      "execution_count": null,
      "outputs": [
        {
          "output_type": "stream",
          "name": "stdout",
          "text": [
            "enter a number 48\n",
            "48  is even\n"
          ]
        }
      ]
    },
    {
      "cell_type": "code",
      "source": [
        "#sort list\n",
        "l1 = [45,23,12,89,56,72]\n",
        "#ascending order\n",
        "l1.sort()\n",
        "print(l1)\n",
        "\n",
        "#descending order\n",
        "l1.sort(reverse = True)\n",
        "print(l1)\n"
      ],
      "metadata": {
        "colab": {
          "base_uri": "https://localhost:8080/"
        },
        "id": "deK6HNLlqx3U",
        "outputId": "306aea79-fc3e-47aa-eb23-f1214a506fe9"
      },
      "execution_count": null,
      "outputs": [
        {
          "output_type": "stream",
          "name": "stdout",
          "text": [
            "[12, 23, 45, 56, 72, 89]\n",
            "[89, 72, 56, 45, 23, 12]\n"
          ]
        }
      ]
    },
    {
      "cell_type": "code",
      "source": [
        "#list comprehension\n",
        "#multiply a list by 3 and store it in new list\n",
        "\n",
        "l1 = [45,23,12,89,56,72]\n",
        "newlist = list()\n",
        "for i in l1:\n",
        "  newlist.append(i*3)\n",
        "\n",
        "print(newlist)\n"
      ],
      "metadata": {
        "colab": {
          "base_uri": "https://localhost:8080/"
        },
        "id": "95ZpROLarfyH",
        "outputId": "fd8c8e76-18c4-4c48-d7cb-e82a3296d8fa"
      },
      "execution_count": null,
      "outputs": [
        {
          "output_type": "stream",
          "name": "stdout",
          "text": [
            "[135, 69, 36, 267, 168, 216]\n"
          ]
        }
      ]
    },
    {
      "cell_type": "code",
      "source": [
        "#using list comprehension\n",
        "newlist=[i*3 for i in l1]\n",
        "print(newlist)\n",
        "\n"
      ],
      "metadata": {
        "colab": {
          "base_uri": "https://localhost:8080/"
        },
        "id": "1BPZn4l8sWc0",
        "outputId": "c8285215-6aee-40ac-d340-91e892d81e7e"
      },
      "execution_count": null,
      "outputs": [
        {
          "output_type": "stream",
          "name": "stdout",
          "text": [
            "[135, 69, 36, 267, 168, 216]\n"
          ]
        }
      ]
    },
    {
      "cell_type": "code",
      "source": [
        "l1 = [4,2,3,9,6,7]\n",
        "newlist = [i*2 if(i%2==0) else i*3 for i in l1]\n",
        "print(newlist)\n",
        "\n"
      ],
      "metadata": {
        "colab": {
          "base_uri": "https://localhost:8080/"
        },
        "id": "A1n98B4YsGGt",
        "outputId": "7a54637d-3185-48eb-ddd0-8eb1d7f8ed40"
      },
      "execution_count": null,
      "outputs": [
        {
          "output_type": "stream",
          "name": "stdout",
          "text": [
            "[8, 4, 9, 27, 12, 21]\n"
          ]
        }
      ]
    },
    {
      "cell_type": "code",
      "source": [
        "strList=['INDIA','JAPAN','FRANCE','SWEDEN']\n",
        "newlist = [i[:3] for i in strList]\n",
        "\n",
        "print(newlist)"
      ],
      "metadata": {
        "colab": {
          "base_uri": "https://localhost:8080/"
        },
        "id": "OqePv3tGxgSZ",
        "outputId": "6174452f-a2cb-4eb1-c685-0f28fee457ea"
      },
      "execution_count": null,
      "outputs": [
        {
          "output_type": "stream",
          "name": "stdout",
          "text": [
            "['IND', 'JAP', 'FRA', 'SWE']\n"
          ]
        }
      ]
    },
    {
      "cell_type": "code",
      "source": [
        "#Dictionary\n",
        "\n",
        "#{key1:value1,key2:value2,key3:value3}\n",
        "\n",
        "Scores = {'RCB': 5.6, 'CSK': 7.8, 'MI': 8.2}\n",
        "\n",
        "print(Scores)\n",
        "print(Scores.values())\n",
        "print(Scores.keys())\n",
        "print(Scores['CSK'])\n",
        "print(Scores.items())\n",
        "#adding new pair\n",
        "Scores['GL']=4.7\n",
        "print(Scores)\n"
      ],
      "metadata": {
        "colab": {
          "base_uri": "https://localhost:8080/"
        },
        "id": "okI8G2Y3zfKD",
        "outputId": "5024a087-ef40-4605-d681-16eb09a04c1b"
      },
      "execution_count": null,
      "outputs": [
        {
          "output_type": "stream",
          "name": "stdout",
          "text": [
            "{'RCB': 5.6, 'CSK': 7.8, 'MI': 8.2}\n",
            "dict_values([5.6, 7.8, 8.2])\n",
            "dict_keys(['RCB', 'CSK', 'MI'])\n",
            "7.8\n",
            "dict_items([('RCB', 5.6), ('CSK', 7.8), ('MI', 8.2)])\n",
            "{'RCB': 5.6, 'CSK': 7.8, 'MI': 8.2, 'GL': 4.7}\n"
          ]
        }
      ]
    },
    {
      "cell_type": "markdown",
      "source": [
        "Dictionay is mutable. and it is heterogeeous\n"
      ],
      "metadata": {
        "id": "DuDKsCsH2Xdf"
      }
    },
    {
      "cell_type": "code",
      "source": [
        "Emp = {\n",
        "    'Empno': [100,200,300],\n",
        "    'Empname':['Gautam','Ramesh','Suresh'],\n",
        "}\n",
        "\n",
        "Emp"
      ],
      "metadata": {
        "colab": {
          "base_uri": "https://localhost:8080/"
        },
        "id": "xhdwv9Sa1dhi",
        "outputId": "ff66ba3c-bde9-48e2-8aa8-db8e0bc44a0e"
      },
      "execution_count": null,
      "outputs": [
        {
          "output_type": "execute_result",
          "data": {
            "text/plain": [
              "{'Empname': ['Gautam', 'Ramesh', 'Suresh'], 'Empno': [100, 200, 300]}"
            ]
          },
          "metadata": {},
          "execution_count": 37
        }
      ]
    },
    {
      "cell_type": "code",
      "source": [
        "#create dictionary and square the values\n",
        "n = int(input('Enter the number'))\n",
        "d={}\n",
        "for i in range(1,n+1):\n",
        "  d[i] = i*i\n",
        "print(d)"
      ],
      "metadata": {
        "colab": {
          "base_uri": "https://localhost:8080/"
        },
        "id": "erH82SXj3FtS",
        "outputId": "2e0d526f-bc38-449a-9dee-4c2372038454"
      },
      "execution_count": null,
      "outputs": [
        {
          "output_type": "stream",
          "name": "stdout",
          "text": [
            "Enter the number10\n",
            "{1: 1, 2: 4, 3: 9, 4: 16, 5: 25, 6: 36, 7: 49, 8: 64, 9: 81, 10: 100}\n"
          ]
        }
      ]
    },
    {
      "cell_type": "code",
      "source": [
        "l = [23,56,12,78]\n",
        "d={}\n",
        "for i in l:\n",
        "   if(i % 2 == 0):\n",
        "     d[i] = 'even' \n",
        "   else:\n",
        "     d[i] = 'odd'\n",
        "print(d)"
      ],
      "metadata": {
        "colab": {
          "base_uri": "https://localhost:8080/"
        },
        "id": "lO1QMrGP3wQR",
        "outputId": "fc9c4ae7-99e1-4dd1-8539-cb9f60a02351"
      },
      "execution_count": null,
      "outputs": [
        {
          "output_type": "stream",
          "name": "stdout",
          "text": [
            "{23: 'odd', 56: 'even', 12: 'even', 78: 'even'}\n"
          ]
        }
      ]
    },
    {
      "cell_type": "code",
      "source": [
        "#sum of values\n",
        "\n",
        "d1={1:98,2:97,3:67,4:87}\n",
        "sum = 0\n",
        "for i in d1.values():\n",
        "  sum = sum + i;\n",
        "\n",
        "print(sum)"
      ],
      "metadata": {
        "colab": {
          "base_uri": "https://localhost:8080/"
        },
        "id": "spov-lDI5a-T",
        "outputId": "eb3c47a1-98f3-42dc-867f-bc00a1ba8863"
      },
      "execution_count": null,
      "outputs": [
        {
          "output_type": "stream",
          "name": "stdout",
          "text": [
            "349\n"
          ]
        }
      ]
    },
    {
      "cell_type": "code",
      "source": [
        "#using sum method\n",
        "d1={1:98,2:97,3:67,4:87}\n",
        "sum(d1.values())"
      ],
      "metadata": {
        "colab": {
          "base_uri": "https://localhost:8080/"
        },
        "id": "8Cm9JWvh8Xte",
        "outputId": "753eb328-77d2-4216-cdad-38be9de998f1"
      },
      "execution_count": null,
      "outputs": [
        {
          "output_type": "execute_result",
          "data": {
            "text/plain": [
              "349"
            ]
          },
          "metadata": {},
          "execution_count": 2
        }
      ]
    },
    {
      "cell_type": "code",
      "source": [
        "dict1 = {'jan':1,'feb':2,'mar':3}\n",
        "dict1.get('feb')"
      ],
      "metadata": {
        "colab": {
          "base_uri": "https://localhost:8080/"
        },
        "id": "UEcW2B-E8tRI",
        "outputId": "9e9ef8a4-c1e8-450e-a94c-188de0c190c9"
      },
      "execution_count": null,
      "outputs": [
        {
          "output_type": "execute_result",
          "data": {
            "text/plain": [
              "2"
            ]
          },
          "metadata": {},
          "execution_count": 3
        }
      ]
    },
    {
      "cell_type": "code",
      "source": [
        "#frequency of alphabet in string\n",
        "text = \"i love to program in python\"\n",
        "freq = dict()\n",
        "for c in text:\n",
        "    if c in 'aeiouAEIOU':\n",
        "      freq[c]=freq.get(c,0)+1\n",
        "print(freq)"
      ],
      "metadata": {
        "colab": {
          "base_uri": "https://localhost:8080/"
        },
        "id": "qXY-Mhog-MAM",
        "outputId": "4dc04919-88d1-43be-d648-831e0f62e516"
      },
      "execution_count": null,
      "outputs": [
        {
          "output_type": "stream",
          "name": "stdout",
          "text": [
            "{'i': 2, 'o': 4, 'e': 1, 'a': 1}\n"
          ]
        }
      ]
    },
    {
      "cell_type": "code",
      "source": [
        "#enumerate\n",
        "\n",
        "l1 = [23,45,12,67,56]\n",
        "for i,j in enumerate(l1):\n",
        "  print(i,j)"
      ],
      "metadata": {
        "colab": {
          "base_uri": "https://localhost:8080/"
        },
        "id": "TXha7zXQQidR",
        "outputId": "95793585-6eaf-4795-cef2-63869472975c"
      },
      "execution_count": null,
      "outputs": [
        {
          "output_type": "stream",
          "name": "stdout",
          "text": [
            "0 23\n",
            "1 45\n",
            "2 12\n",
            "3 67\n",
            "4 56\n"
          ]
        }
      ]
    },
    {
      "cell_type": "code",
      "source": [
        "#tuple\n",
        "#tuble is immutable and faster than list\n",
        "t1 = (23,12,34,56)\n",
        "t1[1]"
      ],
      "metadata": {
        "colab": {
          "base_uri": "https://localhost:8080/"
        },
        "id": "u0BIHEXgRDT1",
        "outputId": "18b0f8fb-e438-4da7-9feb-fe38541d30da"
      },
      "execution_count": null,
      "outputs": [
        {
          "output_type": "execute_result",
          "data": {
            "text/plain": [
              "12"
            ]
          },
          "metadata": {},
          "execution_count": 13
        }
      ]
    },
    {
      "cell_type": "markdown",
      "source": [
        "**Functions**"
      ],
      "metadata": {
        "id": "upNz9ocwR7FA"
      }
    },
    {
      "cell_type": "code",
      "source": [
        "#user defined function\n",
        "#defining a function\n",
        "def add(a,b):\n",
        "  return a+b\n",
        "\n",
        "#calling a function\n",
        "print(add(3,4))\n",
        "print(add('yogesh','rajak'))"
      ],
      "metadata": {
        "colab": {
          "base_uri": "https://localhost:8080/"
        },
        "id": "coyIkY_rR2gC",
        "outputId": "141555a9-046e-48c8-f0e3-f61c2d911a00"
      },
      "execution_count": null,
      "outputs": [
        {
          "output_type": "stream",
          "name": "stdout",
          "text": [
            "7\n",
            "yogeshrajak\n"
          ]
        }
      ]
    },
    {
      "cell_type": "code",
      "source": [
        "def calc(a,b):\n",
        "  sum = a+b\n",
        "  sub = a-b\n",
        "  return(sum,sub)\n",
        "s,p = calc(5,4)\n",
        "print(\"sum: \", s, \"sub: \",p)"
      ],
      "metadata": {
        "colab": {
          "base_uri": "https://localhost:8080/"
        },
        "id": "_nuzWT7OTMmW",
        "outputId": "7209b0d9-002e-41d2-aa03-b0a6551ee92d"
      },
      "execution_count": null,
      "outputs": [
        {
          "output_type": "stream",
          "name": "stdout",
          "text": [
            "sum:  9 sub:  1\n"
          ]
        }
      ]
    },
    {
      "cell_type": "code",
      "source": [
        "n = int(input())\n",
        "def factorial(n):\n",
        "  fact = 1\n",
        "  while(n > 1):\n",
        "    fact*=n\n",
        "    n-=1\n",
        "  return fact\n",
        "\n",
        "factorial(n)"
      ],
      "metadata": {
        "colab": {
          "base_uri": "https://localhost:8080/"
        },
        "id": "nOJdgR9wXcVj",
        "outputId": "3b3825e2-53d7-420c-955d-dc59934dd460"
      },
      "execution_count": null,
      "outputs": [
        {
          "name": "stdout",
          "output_type": "stream",
          "text": [
            "5\n"
          ]
        },
        {
          "output_type": "execute_result",
          "data": {
            "text/plain": [
              "120"
            ]
          },
          "metadata": {},
          "execution_count": 3
        }
      ]
    },
    {
      "cell_type": "code",
      "source": [
        "l1 = list(range(3,8))\n",
        "l2 = [factorial(i) for i in l1]\n",
        "l2"
      ],
      "metadata": {
        "colab": {
          "base_uri": "https://localhost:8080/"
        },
        "id": "LT3GYpWwYsXX",
        "outputId": "d6c91b05-272f-4d2c-aa9b-8da5528077aa"
      },
      "execution_count": null,
      "outputs": [
        {
          "output_type": "execute_result",
          "data": {
            "text/plain": [
              "[6, 24, 120, 720, 5040]"
            ]
          },
          "metadata": {},
          "execution_count": 6
        }
      ]
    },
    {
      "cell_type": "code",
      "source": [
        "#identify prime numbers\n",
        "l2 = list(range(23,46,3))\n",
        "l3 = list()\n",
        "\n",
        "def prime(n):\n",
        "  flag = 0\n",
        "  for i in range(2,n):\n",
        "    if(n % i == 0):\n",
        "      flag = flag + 1\n",
        "  if(flag == 0 and n > 1):\n",
        "    return True\n",
        "  else:\n",
        "    return False\n",
        "\n",
        "l3 = [i for i in l2 if(prime(i))]\n",
        "print(l3)"
      ],
      "metadata": {
        "colab": {
          "base_uri": "https://localhost:8080/"
        },
        "id": "yFYNKUZmZ971",
        "outputId": "195760ee-5ae9-4330-8ddb-2dffe4c0f633"
      },
      "execution_count": null,
      "outputs": [
        {
          "output_type": "stream",
          "name": "stdout",
          "text": [
            "[23, 29, 41]\n"
          ]
        }
      ]
    },
    {
      "cell_type": "markdown",
      "source": [
        "**Lambdas**"
      ],
      "metadata": {
        "id": "FYaeIgmSeP9T"
      }
    },
    {
      "cell_type": "code",
      "source": [
        "sum = lambda x,y:x+y\n",
        "sum(4,5)"
      ],
      "metadata": {
        "colab": {
          "base_uri": "https://localhost:8080/"
        },
        "id": "iEHFXjjQePVO",
        "outputId": "447a39b8-9e24-421d-8d7a-3aad73bc2afa"
      },
      "execution_count": null,
      "outputs": [
        {
          "output_type": "execute_result",
          "data": {
            "text/plain": [
              "9"
            ]
          },
          "metadata": {},
          "execution_count": 22
        }
      ]
    },
    {
      "cell_type": "code",
      "source": [
        "#lambda for square of given number\n",
        "square = lambda x:x*x\n",
        "square(4)"
      ],
      "metadata": {
        "colab": {
          "base_uri": "https://localhost:8080/"
        },
        "id": "YM3QMwCZfETt",
        "outputId": "2765c281-65f8-4f43-93b7-1ddc69627adf"
      },
      "execution_count": null,
      "outputs": [
        {
          "output_type": "execute_result",
          "data": {
            "text/plain": [
              "16"
            ]
          },
          "metadata": {},
          "execution_count": 23
        }
      ]
    },
    {
      "cell_type": "markdown",
      "source": [
        "**Map**,**Filter**,**Reduce**"
      ],
      "metadata": {
        "id": "Ncv_s5XShoBU"
      }
    },
    {
      "cell_type": "code",
      "source": [
        "#map(function,sequence)\n",
        "list(map(factorial, [5,6,7]))\n",
        "l1=[34,67,23,56]\n",
        "list(map(lambda x:x/2,l1))"
      ],
      "metadata": {
        "colab": {
          "base_uri": "https://localhost:8080/"
        },
        "id": "bnOQlHgsfwnq",
        "outputId": "96522211-0014-488f-d831-79d628201e0e"
      },
      "execution_count": null,
      "outputs": [
        {
          "output_type": "execute_result",
          "data": {
            "text/plain": [
              "[17.0, 33.5, 11.5, 28.0]"
            ]
          },
          "metadata": {},
          "execution_count": 28
        }
      ]
    },
    {
      "cell_type": "code",
      "source": [
        "l1 = [35.6,36.2,34.8]\n",
        "list(map(lambda c:(9/5)*c+32, l1))"
      ],
      "metadata": {
        "colab": {
          "base_uri": "https://localhost:8080/"
        },
        "id": "tTpXFZMqimJ5",
        "outputId": "e88ef09f-6fb9-4664-ebbe-6790312b566e"
      },
      "execution_count": null,
      "outputs": [
        {
          "output_type": "execute_result",
          "data": {
            "text/plain": [
              "[96.08, 97.16000000000001, 94.63999999999999]"
            ]
          },
          "metadata": {},
          "execution_count": 32
        }
      ]
    },
    {
      "cell_type": "code",
      "source": [
        "#filter\n",
        "#filter(function, sequence)\n",
        "\n",
        "list(filter(prime,[23,45,12,66,11,21,29,43]))"
      ],
      "metadata": {
        "colab": {
          "base_uri": "https://localhost:8080/"
        },
        "id": "D3UMbtr8kX63",
        "outputId": "7d9acfa2-777c-4f52-b86b-e4e777357eff"
      },
      "execution_count": null,
      "outputs": [
        {
          "output_type": "execute_result",
          "data": {
            "text/plain": [
              "[23, 11, 29, 43]"
            ]
          },
          "metadata": {},
          "execution_count": 34
        }
      ]
    },
    {
      "cell_type": "code",
      "source": [
        "l1 = [24,67,45,34,89,23]\n",
        "list(filter(lambda x:x%2==0, l1))"
      ],
      "metadata": {
        "colab": {
          "base_uri": "https://localhost:8080/"
        },
        "id": "XO7uuYStlQQO",
        "outputId": "1d8a6592-54b6-4ca0-abe1-27483dee1ae8"
      },
      "execution_count": null,
      "outputs": [
        {
          "output_type": "execute_result",
          "data": {
            "text/plain": [
              "[24, 34]"
            ]
          },
          "metadata": {},
          "execution_count": 40
        }
      ]
    },
    {
      "cell_type": "code",
      "source": [
        "#reduce\n",
        "#reduce(function, sequence)\n",
        "#min, max,sum,avg\n",
        "from functools import reduce\n",
        "l1 = list(range(34,12,-2))\n",
        "print(l1)\n",
        "reduce((lambda x,y:x+y),l1)"
      ],
      "metadata": {
        "colab": {
          "base_uri": "https://localhost:8080/"
        },
        "id": "f9iBq67Vqp0x",
        "outputId": "89c27033-6843-44f5-fac4-a0a1b66e7968"
      },
      "execution_count": null,
      "outputs": [
        {
          "output_type": "stream",
          "name": "stdout",
          "text": [
            "[34, 32, 30, 28, 26, 24, 22, 20, 18, 16, 14]\n"
          ]
        },
        {
          "output_type": "execute_result",
          "data": {
            "text/plain": [
              "264"
            ]
          },
          "metadata": {},
          "execution_count": 42
        }
      ]
    },
    {
      "cell_type": "code",
      "source": [
        "# reduce to find min and max element\n",
        "reduce((lambda x,y:x if(x>y) else y), l1)"
      ],
      "metadata": {
        "colab": {
          "base_uri": "https://localhost:8080/"
        },
        "id": "zpDseGYJqp2Y",
        "outputId": "650750c0-642f-4a18-e2ea-94cd8adc42da"
      },
      "execution_count": null,
      "outputs": [
        {
          "output_type": "execute_result",
          "data": {
            "text/plain": [
              "34"
            ]
          },
          "metadata": {},
          "execution_count": 45
        }
      ]
    },
    {
      "cell_type": "code",
      "source": [
        "reduce((lambda x,y:x if(x<y) else y), l1)"
      ],
      "metadata": {
        "colab": {
          "base_uri": "https://localhost:8080/"
        },
        "id": "eTmHljGpqp4L",
        "outputId": "fb4f0730-902d-4bfe-8d4a-3c975993fd3a"
      },
      "execution_count": null,
      "outputs": [
        {
          "output_type": "execute_result",
          "data": {
            "text/plain": [
              "14"
            ]
          },
          "metadata": {},
          "execution_count": 46
        }
      ]
    },
    {
      "cell_type": "code",
      "source": [
        "#adding consecutive elements of given two lists\n",
        "l1 = [23,45,67,34]\n",
        "l2 = [12,89,56,43]\n",
        "\n",
        "list(map(lambda x,y:x+y,l1,l2))"
      ],
      "metadata": {
        "colab": {
          "base_uri": "https://localhost:8080/"
        },
        "id": "qOHBMiQ_sj8Z",
        "outputId": "bd63ef76-813f-4ac3-868e-50a2c5a8ff42"
      },
      "execution_count": null,
      "outputs": [
        {
          "output_type": "execute_result",
          "data": {
            "text/plain": [
              "[35, 134, 123, 77]"
            ]
          },
          "metadata": {},
          "execution_count": 47
        }
      ]
    },
    {
      "cell_type": "code",
      "source": [
        "words = ['apple', 'donkey', 'fish', 'air', 'angle', 'banana']\n",
        "d1 = {}\n",
        "list([len(w) if(w.startswith('a')) else w.upper() for w in words])\n"
      ],
      "metadata": {
        "colab": {
          "base_uri": "https://localhost:8080/"
        },
        "id": "7G8QYcdisj_0",
        "outputId": "80c46945-a7a1-4bb0-87cf-e1ddb2d9322b"
      },
      "execution_count": null,
      "outputs": [
        {
          "output_type": "execute_result",
          "data": {
            "text/plain": [
              "[5, 'DONKEY', 'FISH', 3, 5, 'BANANA']"
            ]
          },
          "metadata": {},
          "execution_count": 12
        }
      ]
    }
  ]
}
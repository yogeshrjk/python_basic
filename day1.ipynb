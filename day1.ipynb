{
  "nbformat": 4,
  "nbformat_minor": 0,
  "metadata": {
    "colab": {
      "name": "day1.ipynb",
      "provenance": [],
      "collapsed_sections": [],
      "authorship_tag": "ABX9TyPavavqFSnlwij612TheaiO",
      "include_colab_link": true
    },
    "kernelspec": {
      "name": "python3",
      "display_name": "Python 3"
    },
    "language_info": {
      "name": "python"
    }
  },
  "cells": [
    {
      "cell_type": "markdown",
      "metadata": {
        "id": "view-in-github",
        "colab_type": "text"
      },
      "source": [
        "<a href=\"https://colab.research.google.com/github/yogeshrjk/python_basic/blob/main/day1.ipynb\" target=\"_parent\"><img src=\"https://colab.research.google.com/assets/colab-badge.svg\" alt=\"Open In Colab\"/></a>"
      ]
    },
    {
      "cell_type": "markdown",
      "source": [
        "this is the first python program."
      ],
      "metadata": {
        "id": "-pUxbTnAYjsa"
      }
    },
    {
      "cell_type": "code",
      "execution_count": null,
      "metadata": {
        "colab": {
          "base_uri": "https://localhost:8080/"
        },
        "id": "J2rktuizXv4a",
        "outputId": "d3ab355f-9437-4649-b501-641f3eeef50e"
      },
      "outputs": [
        {
          "output_type": "stream",
          "name": "stdout",
          "text": [
            "hello world\n"
          ]
        }
      ],
      "source": [
        "# hello world program\n",
        "\n",
        "''' i am writing \n",
        "my first python program'''\n",
        "\n",
        "print(\"hello world\")"
      ]
    },
    {
      "cell_type": "code",
      "source": [
        "print(\"my name is Yogesh Rajak\")"
      ],
      "metadata": {
        "colab": {
          "base_uri": "https://localhost:8080/"
        },
        "id": "8mec6jkPYn-B",
        "outputId": "5aee984c-fb28-424a-9fda-5833e0145df1"
      },
      "execution_count": null,
      "outputs": [
        {
          "output_type": "stream",
          "name": "stdout",
          "text": [
            "my name is Yogesh Rajak\n"
          ]
        }
      ]
    },
    {
      "cell_type": "code",
      "source": [
        "#variable\n",
        "\n",
        "name = \"Yogesh\"\n",
        "print(\"my name is \" + name)"
      ],
      "metadata": {
        "colab": {
          "base_uri": "https://localhost:8080/"
        },
        "id": "zQi0CsW2ZqYC",
        "outputId": "62a9d0e8-da75-4f1b-dcf7-f3f879b381db"
      },
      "execution_count": null,
      "outputs": [
        {
          "output_type": "stream",
          "name": "stdout",
          "text": [
            "my name is Yogesh\n"
          ]
        }
      ]
    },
    {
      "cell_type": "code",
      "source": [
        "#input\n",
        "\n",
        "name = input(\"Enter your name \")\n",
        "#input(\"prompt msg\")\n",
        "print(\"my name is \" + name)"
      ],
      "metadata": {
        "colab": {
          "base_uri": "https://localhost:8080/"
        },
        "id": "BbQqfNO8awoG",
        "outputId": "506f5991-d02c-47ba-ea0f-0f410818c85e"
      },
      "execution_count": null,
      "outputs": [
        {
          "output_type": "stream",
          "name": "stdout",
          "text": [
            "Enter your name Yogesh\n",
            "my name is Yogesh\n"
          ]
        }
      ]
    },
    {
      "cell_type": "code",
      "source": [
        "#accept age\n",
        "age = int(input(\"Enter your age: \"))\n",
        "age = age + 1\n",
        "print(\"my age is \" , age)"
      ],
      "metadata": {
        "colab": {
          "base_uri": "https://localhost:8080/"
        },
        "id": "EjK0U_pabgAU",
        "outputId": "8cd34c2d-f656-4bd0-cf59-479afade0fa1"
      },
      "execution_count": null,
      "outputs": [
        {
          "output_type": "stream",
          "name": "stdout",
          "text": [
            "Enter your age: 23\n",
            "my age is  24\n"
          ]
        }
      ]
    },
    {
      "cell_type": "code",
      "source": [
        "#accept two integer and add them\n",
        "\n",
        "num1 = int(input(\"Enter first number: \"))\n",
        "num2 = int(input(\"Enter second number: \"))\n",
        "print(\"Addition: \", num1+num2)"
      ],
      "metadata": {
        "colab": {
          "base_uri": "https://localhost:8080/"
        },
        "id": "UJW2dV5OhFsW",
        "outputId": "a955c105-3651-4f1b-e7d1-6ebb4a5848a9"
      },
      "execution_count": null,
      "outputs": [
        {
          "output_type": "stream",
          "name": "stdout",
          "text": [
            "Enter first number: 4\n",
            "Enter second number: 5\n",
            "Addition:  9\n"
          ]
        }
      ]
    },
    {
      "cell_type": "code",
      "source": [
        "# check data type\n",
        "\n",
        "x = 12\n",
        "y = 2.4\n",
        "z = \"hello\"\n",
        "a = 'a'\n",
        "print(type(x))\n",
        "print(type(y))\n",
        "print(type(z))\n",
        "print(type(a))\n"
      ],
      "metadata": {
        "colab": {
          "base_uri": "https://localhost:8080/"
        },
        "id": "F4BKW0fjh7rA",
        "outputId": "357a7582-a207-4fb9-b4df-18381488c63f"
      },
      "execution_count": null,
      "outputs": [
        {
          "output_type": "stream",
          "name": "stdout",
          "text": [
            "<class 'int'>\n",
            "<class 'float'>\n",
            "<class 'str'>\n",
            "<class 'str'>\n"
          ]
        }
      ]
    },
    {
      "cell_type": "code",
      "source": [
        "#operators\n",
        "\n",
        "a=13\n",
        "b=5\n",
        "print(a*b)\n",
        "print(a/b)\n",
        "print(a//b)\n",
        "print(a%b)\n",
        "print(a ** b)"
      ],
      "metadata": {
        "colab": {
          "base_uri": "https://localhost:8080/"
        },
        "id": "Ae_WRH_jjrWp",
        "outputId": "bc240569-8158-4742-ade0-fc4b1d9081d9"
      },
      "execution_count": null,
      "outputs": [
        {
          "output_type": "stream",
          "name": "stdout",
          "text": [
            "65\n",
            "2.6\n",
            "2\n",
            "3\n",
            "371293\n"
          ]
        }
      ]
    },
    {
      "cell_type": "markdown",
      "source": [
        "if else statement"
      ],
      "metadata": {
        "id": "NCy3PZzxqWTy"
      }
    },
    {
      "cell_type": "code",
      "source": [
        "\n",
        "x = int(input(\"Enter your age\"))\n",
        "if(x >= 18):\n",
        "  if(x>=60):\n",
        "    print(\"you are a senior citizen\")\n",
        "  print(\"you have voting rights \")\n",
        "elif(x>=13):\n",
        "  print(\"you do not have voting rights but you are a teenager\")\n",
        "\n",
        "else:\n",
        "  print(\"you do not have voting rights\")"
      ],
      "metadata": {
        "colab": {
          "base_uri": "https://localhost:8080/"
        },
        "id": "sjXmqfTtm1Yj",
        "outputId": "1ba6c256-b575-454e-cc6d-7f8fe2903f6b"
      },
      "execution_count": null,
      "outputs": [
        {
          "output_type": "stream",
          "name": "stdout",
          "text": [
            "Enter your age55\n",
            "you have voting rights \n",
            "please contact nearest govt office\n"
          ]
        }
      ]
    },
    {
      "cell_type": "code",
      "source": [
        "#check if given number is even or odd\n",
        "\n",
        "num = int(input(\"Enter a number: \"))\n",
        "\n",
        "if(num % 2 == 0):\n",
        "  print(\"even number\")\n",
        "else:\n",
        "  print(\"odd number\")\n",
        "\n"
      ],
      "metadata": {
        "colab": {
          "base_uri": "https://localhost:8080/"
        },
        "id": "ToN47QFVqa4_",
        "outputId": "b6d07571-ae5d-4b2d-9e3e-6ab756470bf7"
      },
      "execution_count": null,
      "outputs": [
        {
          "output_type": "stream",
          "name": "stdout",
          "text": [
            "Enter a number: 4\n",
            "even number\n"
          ]
        }
      ]
    },
    {
      "cell_type": "code",
      "source": [
        "#complex condition\n",
        "x = 1\n",
        "y = 0\n",
        "if(x>2 and (x/y)>2):\n",
        "  print(\"have entered if\")\n",
        "  "
      ],
      "metadata": {
        "id": "kuMwUiG1rZM_"
      },
      "execution_count": null,
      "outputs": []
    },
    {
      "cell_type": "code",
      "source": [
        "#iteration\n",
        "for i in range(10): \n",
        "  print(i)\n",
        "for i in range(1, 20,4):\n",
        "  print(i)"
      ],
      "metadata": {
        "colab": {
          "base_uri": "https://localhost:8080/"
        },
        "id": "xww5tgSxtld5",
        "outputId": "b25070cb-bff9-480f-b4b8-7a026bf0e166"
      },
      "execution_count": null,
      "outputs": [
        {
          "output_type": "stream",
          "name": "stdout",
          "text": [
            "0\n",
            "1\n",
            "2\n",
            "3\n",
            "4\n",
            "5\n",
            "6\n",
            "7\n",
            "8\n",
            "9\n",
            "1\n",
            "5\n",
            "9\n",
            "13\n",
            "17\n"
          ]
        }
      ]
    },
    {
      "cell_type": "code",
      "source": [
        "#fibonacci series\n",
        "n1=0\n",
        "n2=1\n",
        "nth=n1+n2\n",
        "n = int(input(\"enter the number: \"))\n",
        "while(n1 <= n):\n",
        "  nth=n1+n2\n",
        "  print(n1, end=\" \")\n",
        "  n1=n2\n",
        "  n2=nth\n"
      ],
      "metadata": {
        "colab": {
          "base_uri": "https://localhost:8080/"
        },
        "id": "7YckiIjnxXYB",
        "outputId": "f4fb6c94-f59b-4e25-ebaf-75996649aba0"
      },
      "execution_count": null,
      "outputs": [
        {
          "output_type": "stream",
          "name": "stdout",
          "text": [
            "enter the number25\n",
            "0 1 1 2 3 5 8 13 21 "
          ]
        }
      ]
    },
    {
      "cell_type": "code",
      "source": [
        "#wap to find factorial of given number\n",
        "\n",
        "num = int(input(\"Enter the number: \"))\n",
        "fact = 1\n",
        "while(num >= 1):\n",
        "  fact = fact*num\n",
        "  num = num - 1\n",
        "print(\"factorial: \", fact)"
      ],
      "metadata": {
        "colab": {
          "base_uri": "https://localhost:8080/"
        },
        "id": "NlxworOu0Fn7",
        "outputId": "71036c0b-081b-4a24-fd0b-c821a517328e"
      },
      "execution_count": null,
      "outputs": [
        {
          "output_type": "stream",
          "name": "stdout",
          "text": [
            "Enter the number: 5\n",
            "factorial:  120\n"
          ]
        }
      ]
    },
    {
      "cell_type": "code",
      "source": [
        "n=int(input(\"enter the number: \"))\n",
        "\n",
        "fact=1\n",
        "\n",
        "for i in range(1,n+1):\n",
        "\n",
        "  fact*=i\n",
        "\n",
        "print(\"factorial of number is\",fact)"
      ],
      "metadata": {
        "colab": {
          "base_uri": "https://localhost:8080/"
        },
        "id": "VASWqrD91SZ8",
        "outputId": "39d72f12-a072-4148-e047-334bc05f9072"
      },
      "execution_count": null,
      "outputs": [
        {
          "output_type": "stream",
          "name": "stdout",
          "text": [
            "enter the number: 5\n",
            "factorial of number is 120\n"
          ]
        }
      ]
    },
    {
      "cell_type": "code",
      "source": [
        "#check if given number is prime or not\n",
        "\n",
        "num = int(input(\"Enter a number: \"))\n",
        "\n",
        "flag = 0\n",
        "for i in range(2,num):\n",
        "  if(num % i == 0):\n",
        "    flag = flag + 1\n",
        "\n",
        "if(flag != 0 or num <= 1):\n",
        "  print(\"it is not a prime number\")\n",
        "else:\n",
        "  print(\"it is a prime number\")\n"
      ],
      "metadata": {
        "colab": {
          "base_uri": "https://localhost:8080/"
        },
        "id": "5Qa33XaO24pB",
        "outputId": "14dc554c-8136-4eb3-abd4-362c3b5a0cf2"
      },
      "execution_count": null,
      "outputs": [
        {
          "output_type": "stream",
          "name": "stdout",
          "text": [
            "Enter a number: 11\n",
            "it is a prime number\n"
          ]
        }
      ]
    },
    {
      "cell_type": "code",
      "source": [
        "#find out all the prime numbers in a given range\n",
        "lnum = int(input(\"Enter range: from \"))\n",
        "hnum = int(input(\"to \"))\n",
        "\n",
        "if(lnum < hnum):\n",
        "  for n in range(lnum, hnum+1):\n",
        "    flag = 0\n",
        "    for i in range(2,n):\n",
        "      if(n % i == 0):\n",
        "        flag = flag + 1\n",
        "    if(flag == 0 and n > 1):\n",
        "      print(n, end=\" \")\n",
        "else:\n",
        "  print(\"Range you have entered is invalid.\")"
      ],
      "metadata": {
        "colab": {
          "base_uri": "https://localhost:8080/"
        },
        "id": "Qtp_WRCz-7zv",
        "outputId": "db1c962b-01c8-4a48-c84b-cb62ae511798"
      },
      "execution_count": null,
      "outputs": [
        {
          "output_type": "stream",
          "name": "stdout",
          "text": [
            "Enter range: from -6\n",
            "to 29\n",
            "2 3 5 7 11 13 17 19 23 29 "
          ]
        }
      ]
    },
    {
      "cell_type": "code",
      "source": [
        "#generate next prime number\n",
        "\n",
        "num = int(input(\"Enter a number: \"))\n",
        "next = num + 1\n",
        "found = 0\n",
        "while(found == 0):\n",
        "  flag = 0\n",
        "  for i in range(2,next):\n",
        "    if(next % i == 0):\n",
        "      flag = flag + 1\n",
        "  if(flag == 0 and next > 1):\n",
        "    found = 1\n",
        "  else:\n",
        "    next = next + 1\n",
        "\n",
        "print(\"next prime number is: \", next)\n",
        "\n",
        "\n"
      ],
      "metadata": {
        "colab": {
          "base_uri": "https://localhost:8080/"
        },
        "id": "4iWNic7tB6f4",
        "outputId": "e6eff0a5-612b-4dcb-eb31-a2813931be06"
      },
      "execution_count": null,
      "outputs": [
        {
          "output_type": "stream",
          "name": "stdout",
          "text": [
            "Enter a number: -7\n",
            "next prime number is:  2\n"
          ]
        }
      ]
    },
    {
      "cell_type": "markdown",
      "source": [
        "second approach"
      ],
      "metadata": {
        "id": "fp4XGf5mPwyQ"
      }
    },
    {
      "cell_type": "code",
      "source": [
        "num = int(input(\"Enter a number: \"))\n",
        "isPrime = False\n",
        "while(isPrime == False):\n",
        "  num +=1\n",
        "  flag = 0\n",
        "  for i in range(2,num):\n",
        "    if(num % i == 0):\n",
        "     flag = flag + 1\n",
        "  if(flag == 0 and num > 1):\n",
        "    isPrime = True\n",
        "  \n",
        "print(num)\n"
      ],
      "metadata": {
        "colab": {
          "base_uri": "https://localhost:8080/"
        },
        "id": "IiR_fKsTOzrF",
        "outputId": "d875c395-ee4a-4943-9b3b-a0ed02b57c58"
      },
      "execution_count": null,
      "outputs": [
        {
          "output_type": "stream",
          "name": "stdout",
          "text": [
            "Enter a number: 15\n",
            "17\n"
          ]
        }
      ]
    },
    {
      "cell_type": "code",
      "source": [
        "#swap two numbers\n",
        "\n",
        "x=5\n",
        "y=10\n",
        "\n",
        "print(\"x: \", x, \"y: \", y)\n",
        "(x,y)=(y,x)\n",
        "print(\"x: \", x, \"y: \", y)"
      ],
      "metadata": {
        "id": "7U3XoOgmSWUG"
      },
      "execution_count": null,
      "outputs": []
    },
    {
      "cell_type": "code",
      "source": [
        "fruit = \"Orange\"\n",
        "dir(fruit)\n",
        "fruit.title()"
      ],
      "metadata": {
        "colab": {
          "base_uri": "https://localhost:8080/",
          "height": 35
        },
        "id": "t-gL-JqQUNQY",
        "outputId": "5a739934-e256-4ac8-e8bc-fad95d9b3d68"
      },
      "execution_count": null,
      "outputs": [
        {
          "output_type": "execute_result",
          "data": {
            "text/plain": [
              "'Orange'"
            ],
            "application/vnd.google.colaboratory.intrinsic+json": {
              "type": "string"
            }
          },
          "metadata": {},
          "execution_count": 96
        }
      ]
    },
    {
      "cell_type": "code",
      "source": [
        "for i in fruit:\n",
        "  print(i*3)"
      ],
      "metadata": {
        "colab": {
          "base_uri": "https://localhost:8080/"
        },
        "id": "jVV9wsktdG1d",
        "outputId": "83f6e566-42ae-47e8-d610-dbd244aae294"
      },
      "execution_count": null,
      "outputs": [
        {
          "output_type": "stream",
          "name": "stdout",
          "text": [
            "OOO\n",
            "rrr\n",
            "aaa\n",
            "nnn\n",
            "ggg\n",
            "eee\n"
          ]
        }
      ]
    },
    {
      "cell_type": "markdown",
      "source": [
        "**Slicing**"
      ],
      "metadata": {
        "id": "5xFlHy3KVERq"
      }
    },
    {
      "cell_type": "code",
      "source": [
        "len(fruit)"
      ],
      "metadata": {
        "colab": {
          "base_uri": "https://localhost:8080/"
        },
        "id": "4rC7PRbIVDx8",
        "outputId": "29270ebb-3d84-4905-cce5-e52339857374"
      },
      "execution_count": null,
      "outputs": [
        {
          "output_type": "execute_result",
          "data": {
            "text/plain": [
              "6"
            ]
          },
          "metadata": {},
          "execution_count": 78
        }
      ]
    },
    {
      "cell_type": "code",
      "source": [
        "alpha = \"abcdefghi\"\n",
        "#index\n",
        "print(alpha[6])\n",
        "#- gives index values from right to left\n",
        "print(alpha[-1])\n",
        "#slicing(start, end)\n",
        "print(alpha[0:5])\n",
        "print(alpha[7:2:-1])\n",
        "#reverse string\n",
        "print(alpha[::-1])\n",
        "print(alpha[7::-1])\n",
        "\n",
        "print(alpha[-1:-1:-1])\n"
      ],
      "metadata": {
        "colab": {
          "base_uri": "https://localhost:8080/"
        },
        "id": "fasYDQcjWs0D",
        "outputId": "218e78cd-5840-49a7-b800-df4ef4fa4302"
      },
      "execution_count": null,
      "outputs": [
        {
          "output_type": "stream",
          "name": "stdout",
          "text": [
            "g\n",
            "i\n",
            "abcde\n",
            "hgfed\n",
            "ihgfedcba\n",
            "hgfedcba\n",
            "\n"
          ]
        }
      ]
    },
    {
      "cell_type": "code",
      "source": [
        "print(alpha.startswith('a'))"
      ],
      "metadata": {
        "colab": {
          "base_uri": "https://localhost:8080/"
        },
        "id": "6czrHy4GgoFs",
        "outputId": "82526d1a-9642-465c-cf1f-af3015ce1a76"
      },
      "execution_count": null,
      "outputs": [
        {
          "output_type": "stream",
          "name": "stdout",
          "text": [
            "True\n"
          ]
        }
      ]
    },
    {
      "cell_type": "code",
      "source": [
        "#split method\n",
        "\n",
        "tags = \"#money#finance#trade#paisa#rupee\"\n",
        "tags = tags.strip('#')\n",
        "print(tags.split('#'))"
      ],
      "metadata": {
        "colab": {
          "base_uri": "https://localhost:8080/"
        },
        "id": "O86crkMlfeZ6",
        "outputId": "273e11d0-4591-40ab-ff77-0b56e55ce72c"
      },
      "execution_count": null,
      "outputs": [
        {
          "output_type": "stream",
          "name": "stdout",
          "text": [
            "['money', 'finance', 'trade', 'paisa', 'rupee']\n"
          ]
        }
      ]
    },
    {
      "cell_type": "code",
      "source": [
        "#join method\n",
        "\n",
        "l = ['Raju', 'is', 'a', 'good', 'boy']\n",
        "print(str(l)+\"yes he is\")\n",
        "\n",
        "sent = \" \".join(l)\n",
        "print(sent+\" ,yes he is.\")"
      ],
      "metadata": {
        "colab": {
          "base_uri": "https://localhost:8080/"
        },
        "id": "ty3OC67Mg_zB",
        "outputId": "5dcbadfa-21ba-49d7-b5e0-278c97e1d03d"
      },
      "execution_count": null,
      "outputs": [
        {
          "output_type": "stream",
          "name": "stdout",
          "text": [
            "['Raju', 'is', 'a', 'good', 'boy']yes he is\n",
            "Raju is a good boy ,yes he is.\n"
          ]
        }
      ]
    },
    {
      "cell_type": "code",
      "source": [
        "#find method\n",
        "a = \"amazing\"\n",
        "# a.find('zing')\n",
        "a.find('a',1)"
      ],
      "metadata": {
        "colab": {
          "base_uri": "https://localhost:8080/"
        },
        "id": "nkGfYSCvkAR1",
        "outputId": "a8b55454-cb4a-4f35-8a61-171b16a19721"
      },
      "execution_count": null,
      "outputs": [
        {
          "output_type": "execute_result",
          "data": {
            "text/plain": [
              "2"
            ]
          },
          "metadata": {},
          "execution_count": 120
        }
      ]
    },
    {
      "cell_type": "code",
      "source": [
        "'z' in a"
      ],
      "metadata": {
        "colab": {
          "base_uri": "https://localhost:8080/"
        },
        "id": "hIsh6_-JllpK",
        "outputId": "c49053bb-9903-4efa-e359-3d02012101d6"
      },
      "execution_count": null,
      "outputs": [
        {
          "output_type": "execute_result",
          "data": {
            "text/plain": [
              "True"
            ]
          },
          "metadata": {},
          "execution_count": 123
        }
      ]
    },
    {
      "cell_type": "code",
      "source": [
        "#list\n",
        "\n",
        "list1 = [1,2.3,'hello', True]\n",
        "print(list1[3])"
      ],
      "metadata": {
        "colab": {
          "base_uri": "https://localhost:8080/"
        },
        "id": "JRj7qdvzltD2",
        "outputId": "785868e7-ab45-420e-e775-93afb6182b67"
      },
      "execution_count": null,
      "outputs": [
        {
          "output_type": "stream",
          "name": "stdout",
          "text": [
            "True\n"
          ]
        }
      ]
    },
    {
      "cell_type": "code",
      "source": [
        "type(list1)"
      ],
      "metadata": {
        "colab": {
          "base_uri": "https://localhost:8080/"
        },
        "id": "dVzH74Tim8-4",
        "outputId": "feceed31-5174-425e-e93a-e11aeeab2095"
      },
      "execution_count": null,
      "outputs": [
        {
          "output_type": "execute_result",
          "data": {
            "text/plain": [
              "list"
            ]
          },
          "metadata": {},
          "execution_count": 128
        }
      ]
    },
    {
      "cell_type": "code",
      "source": [
        "type(list1[2])"
      ],
      "metadata": {
        "colab": {
          "base_uri": "https://localhost:8080/"
        },
        "id": "33-lwrKenE5q",
        "outputId": "bc9d8938-7c52-4516-9961-edced58951d7"
      },
      "execution_count": null,
      "outputs": [
        {
          "output_type": "execute_result",
          "data": {
            "text/plain": [
              "str"
            ]
          },
          "metadata": {},
          "execution_count": 129
        }
      ]
    },
    {
      "cell_type": "code",
      "source": [
        "for i in list1:\n",
        "  print(i)"
      ],
      "metadata": {
        "colab": {
          "base_uri": "https://localhost:8080/"
        },
        "id": "v7AEfWJXnKZM",
        "outputId": "5ac5839c-91d5-4d51-e613-58608659c422"
      },
      "execution_count": null,
      "outputs": [
        {
          "output_type": "stream",
          "name": "stdout",
          "text": [
            "1\n",
            "2.3\n",
            "hello\n",
            "True\n"
          ]
        }
      ]
    },
    {
      "cell_type": "code",
      "source": [
        "l2=list(range(4,50,5))\n",
        "l2"
      ],
      "metadata": {
        "colab": {
          "base_uri": "https://localhost:8080/"
        },
        "id": "I8_rZYOfoG73",
        "outputId": "51745729-9583-4b19-af79-d8a7d95c8328"
      },
      "execution_count": null,
      "outputs": [
        {
          "output_type": "execute_result",
          "data": {
            "text/plain": [
              "[4, 9, 14, 19, 24, 29, 34, 39, 44, 49]"
            ]
          },
          "metadata": {},
          "execution_count": 132
        }
      ]
    },
    {
      "cell_type": "code",
      "source": [
        "str1 = \"good morning\"\n",
        "print(id(str1))\n",
        "str2 = \"good evening\"\n",
        "print(id(str2))"
      ],
      "metadata": {
        "colab": {
          "base_uri": "https://localhost:8080/"
        },
        "id": "vqRcamXppi9g",
        "outputId": "8643da55-b1e8-4f74-dbb1-82f982efb1de"
      },
      "execution_count": null,
      "outputs": [
        {
          "output_type": "stream",
          "name": "stdout",
          "text": [
            "139834065288944\n",
            "139834065288816\n"
          ]
        }
      ]
    },
    {
      "cell_type": "code",
      "source": [
        "#list slicing\n",
        "\n",
        "l3 = [12,13,14,15,16,17,18,19]\n",
        "print(l3[7:3:-1])\n",
        "print(l3[::-1])\n",
        "print(l3[5:2:-1])"
      ],
      "metadata": {
        "colab": {
          "base_uri": "https://localhost:8080/"
        },
        "id": "c4I53t1mqaTt",
        "outputId": "6e8bae75-2259-4547-f98e-0f30e2841267"
      },
      "execution_count": null,
      "outputs": [
        {
          "output_type": "stream",
          "name": "stdout",
          "text": [
            "[19, 18, 17, 16]\n",
            "[19, 18, 17, 16, 15, 14, 13, 12]\n",
            "[17, 16, 15]\n"
          ]
        }
      ]
    },
    {
      "cell_type": "code",
      "source": [
        "#inser, append, extend, pop, remove, del\n",
        "str2 = [12,13,15,16,17,18,19]\n",
        "#insert\n",
        "str2.insert(2,14)\n",
        "print(str2)\n",
        "#append\n",
        "str2.append('numbers')\n",
        "print(str2)\n",
        "#extend\n",
        "str2.extend('89')\n",
        "print(str2)\n",
        "#pop\n",
        "str2.pop(3)\n",
        "print(str2)\n",
        "#remove\n",
        "str2.remove(16)\n",
        "print(str2)\n",
        "#del\n",
        "del str2[2:5]\n",
        "print(str2)"
      ],
      "metadata": {
        "colab": {
          "base_uri": "https://localhost:8080/"
        },
        "id": "QmuH79-arwOu",
        "outputId": "ced012c8-92d6-41e6-823f-7c9fa642e106"
      },
      "execution_count": null,
      "outputs": [
        {
          "output_type": "stream",
          "name": "stdout",
          "text": [
            "[12, 13, 14, 15, 16, 17, 18, 19]\n",
            "[12, 13, 14, 15, 16, 17, 18, 19, 'numbers']\n",
            "[12, 13, 14, 15, 16, 17, 18, 19, 'numbers', '8', '9']\n",
            "[12, 13, 14, 16, 17, 18, 19, 'numbers', '8', '9']\n",
            "[12, 13, 14, 17, 18, 19, 'numbers', '8', '9']\n",
            "[12, 13, 19, 'numbers', '8', '9']\n"
          ]
        }
      ]
    },
    {
      "cell_type": "code",
      "source": [
        "#copy\n",
        "str3 = str2.copy()\n",
        "print(str3)"
      ],
      "metadata": {
        "colab": {
          "base_uri": "https://localhost:8080/"
        },
        "id": "ZQAjiVLyugh-",
        "outputId": "0e06fe7b-778b-445e-fd5f-dc02e505f06c"
      },
      "execution_count": null,
      "outputs": [
        {
          "output_type": "stream",
          "name": "stdout",
          "text": [
            "[12, 13, 19, 'numbers', 'n', 'u', 'm', 'b', 'e', 'r', 's']\n"
          ]
        }
      ]
    },
    {
      "cell_type": "code",
      "source": [
        "#remove special characters\n",
        "str2='sdjhf#$#$@#$sdf@#$#%@'\n",
        "schar = ['#','$','@','%','!','|','+','<','>','=','^','(',')','-','[',']','{','}','.',';',':',',','<','>','.','/','?','^','&','*','_','~']\n",
        "for i in schar:\n",
        "  str2 = str2.replace(i,'')\n",
        "\n",
        "print(str2)"
      ],
      "metadata": {
        "colab": {
          "base_uri": "https://localhost:8080/"
        },
        "id": "Q_-1dACCUXDO",
        "outputId": "57b40864-4f45-44bc-e8a0-62b14bb45599"
      },
      "execution_count": null,
      "outputs": [
        {
          "output_type": "stream",
          "name": "stdout",
          "text": [
            "sdjhfsdf\n"
          ]
        }
      ]
    },
    {
      "cell_type": "code",
      "source": [
        "string = \"sdjhf#$#$@#$sdf@#$#@\"\n",
        "\n",
        "new = ''.join(char for char in string if char.isalnum())\n",
        "print(new)"
      ],
      "metadata": {
        "colab": {
          "base_uri": "https://localhost:8080/"
        },
        "id": "IiVzSlMiUJ6Z",
        "outputId": "3315fe9c-ffa4-4ea1-93d8-6af144b5f8e8"
      },
      "execution_count": null,
      "outputs": [
        {
          "output_type": "stream",
          "name": "stdout",
          "text": [
            "sdjhfsdf\n"
          ]
        }
      ]
    },
    {
      "cell_type": "code",
      "source": [
        "'''Assume you have 5 strings as given below\n",
        "find out the mean of X-DSPAM-Confidence and\n",
        "Y-DSPAM-Confidence\n",
        "' X-DSPAM-Confidence:0.8475 '\n",
        "' X-DSPAM-Confidence:0.765 '\n",
        "' X-DSPAM-Confidence:0.7065 '\n",
        "'Y-DSPAM-Confidence:0.9985 '\n",
        "'Y-DSPAM-Confidence:0.6585 '\n",
        "'''\n",
        "  \n",
        "Data = ['X-DSPAM-Confidence:0.8475','X-DSPAM-Confidence:0.765',\n",
        "'X-DSPAM-Confidence:0.7065','Y-DSPAM-Confidence:0.9985',\n",
        "'Y-DSPAM-Confidence:0.6585']\n",
        "x = list()\n",
        "y = list()\n",
        "for n in Data:\n",
        "  if(n.startswith('X-DSPAM-Confidence:')):\n",
        "    x.append(n[19:])\n",
        "  else:\n",
        "    y.append(n[19:])\n",
        "sumx = 0\n",
        "sumy = 0\n",
        "for i in x:\n",
        "  sumx += float(i)\n",
        "for j in x:\n",
        "  sumy += float(j)\n",
        "print(\"mean of X-DSPAM-Confidence is: \",  sumx/len(x))\n",
        "print(\"mean of Y-DSPAM-Confidence is: \",  sumy/len(y))\n",
        "    "
      ],
      "metadata": {
        "colab": {
          "base_uri": "https://localhost:8080/"
        },
        "id": "KibQWEfHUaZU",
        "outputId": "eeb101a5-62d3-4b53-d7ef-ae1239bf8edd"
      },
      "execution_count": null,
      "outputs": [
        {
          "output_type": "stream",
          "name": "stdout",
          "text": [
            "mean of X-DSPAM-Confidence is:  0.773\n",
            "mean of Y-DSPAM-Confidence is:  1.1595\n"
          ]
        }
      ]
    }
  ]
}